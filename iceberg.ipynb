{
 "cells": [
  {
   "cell_type": "code",
   "execution_count": 1,
   "id": "6c6f597d-d1fd-45dd-9cec-51e9670cf0e5",
   "metadata": {
    "execution": {
     "iopub.execute_input": "2024-12-01T22:52:22.226217Z",
     "iopub.status.busy": "2024-12-01T22:52:22.225967Z",
     "iopub.status.idle": "2024-12-01T22:52:22.275139Z",
     "shell.execute_reply": "2024-12-01T22:52:22.274739Z",
     "shell.execute_reply.started": "2024-12-01T22:52:22.226190Z"
    }
   },
   "outputs": [],
   "source": [
    "from pyspark.sql import SparkSession"
   ]
  },
  {
   "cell_type": "code",
   "execution_count": 2,
   "id": "c1fd8dd7-b4fc-4f97-b390-ff02a1aa5c8b",
   "metadata": {
    "execution": {
     "iopub.execute_input": "2024-12-01T22:52:22.275706Z",
     "iopub.status.busy": "2024-12-01T22:52:22.275583Z",
     "iopub.status.idle": "2024-12-01T22:52:24.634035Z",
     "shell.execute_reply": "2024-12-01T22:52:24.633715Z",
     "shell.execute_reply.started": "2024-12-01T22:52:22.275694Z"
    }
   },
   "outputs": [
    {
     "name": "stderr",
     "output_type": "stream",
     "text": [
      "24/12/02 05:52:23 WARN Utils: Your hostname, Varokass-MacBook-Pro.local resolves to a loopback address: 127.0.0.1; using 172.20.10.6 instead (on interface en0)\n",
      "24/12/02 05:52:23 WARN Utils: Set SPARK_LOCAL_IP if you need to bind to another address\n",
      "Ivy Default Cache set to: /Users/vpanusuwan/.ivy2/cache\n",
      "The jars for the packages stored in: /Users/vpanusuwan/.ivy2/jars\n",
      "org.apache.iceberg#iceberg-spark-runtime-3.5_2.12 added as a dependency\n",
      ":: resolving dependencies :: org.apache.spark#spark-submit-parent-ed7b56a4-039e-4aa0-94b2-b0a13bf4c82a;1.0\n",
      "\tconfs: [default]\n"
     ]
    },
    {
     "name": "stdout",
     "output_type": "stream",
     "text": [
      ":: loading settings :: url = jar:file:/Users/vpanusuwan/.sdkman/candidates/spark/3.5.3/jars/ivy-2.5.1.jar!/org/apache/ivy/core/settings/ivysettings.xml\n"
     ]
    },
    {
     "name": "stderr",
     "output_type": "stream",
     "text": [
      "\tfound org.apache.iceberg#iceberg-spark-runtime-3.5_2.12;1.7.0 in central\n",
      ":: resolution report :: resolve 56ms :: artifacts dl 2ms\n",
      "\t:: modules in use:\n",
      "\torg.apache.iceberg#iceberg-spark-runtime-3.5_2.12;1.7.0 from central in [default]\n",
      "\t---------------------------------------------------------------------\n",
      "\t|                  |            modules            ||   artifacts   |\n",
      "\t|       conf       | number| search|dwnlded|evicted|| number|dwnlded|\n",
      "\t---------------------------------------------------------------------\n",
      "\t|      default     |   1   |   0   |   0   |   0   ||   1   |   0   |\n",
      "\t---------------------------------------------------------------------\n",
      ":: retrieving :: org.apache.spark#spark-submit-parent-ed7b56a4-039e-4aa0-94b2-b0a13bf4c82a\n",
      "\tconfs: [default]\n",
      "\t0 artifacts copied, 1 already retrieved (0kB/3ms)\n",
      "24/12/02 05:52:23 WARN NativeCodeLoader: Unable to load native-hadoop library for your platform... using builtin-java classes where applicable\n",
      "Setting default log level to \"WARN\".\n",
      "To adjust logging level use sc.setLogLevel(newLevel). For SparkR, use setLogLevel(newLevel).\n"
     ]
    }
   ],
   "source": [
    "import os\n",
    "cwd = os.getcwd()\n",
    "\n",
    "spark = SparkSession.builder \\\n",
    "      .master(\"local[*]\") \\\n",
    "      .appName(\"spark-demo\") \\\n",
    "      .config(map={\n",
    "          \"spark.jars.packages\": \"org.apache.iceberg:iceberg-spark-runtime-3.5_2.12:1.7.0\",          \n",
    "          \"spark.sql.extensions\": \"org.apache.iceberg.spark.extensions.IcebergSparkSessionExtensions\",\n",
    "\n",
    "          \"spark.sql.catalog.local\": \"org.apache.iceberg.spark.SparkSessionCatalog\",\n",
    "          \"spark.sql.catalog.local.type\": \"hive\",\n",
    "          \"spark.sql.catalog.local\": \"org.apache.iceberg.spark.SparkCatalog\",\n",
    "          \"spark.sql.catalog.local.type\": \"hadoop\",\n",
    "          \"spark.sql.catalog.local.warehouse\": f\"{cwd}/warehouse\",\n",
    "      }) \\\n",
    "      .getOrCreate()"
   ]
  },
  {
   "cell_type": "code",
   "execution_count": 3,
   "id": "878919a7-ba57-4f2e-8cc1-18b6a612f428",
   "metadata": {
    "execution": {
     "iopub.execute_input": "2024-12-01T22:52:24.635265Z",
     "iopub.status.busy": "2024-12-01T22:52:24.635168Z",
     "iopub.status.idle": "2024-12-01T22:52:24.639958Z",
     "shell.execute_reply": "2024-12-01T22:52:24.639676Z",
     "shell.execute_reply.started": "2024-12-01T22:52:24.635251Z"
    }
   },
   "outputs": [
    {
     "data": {
      "text/plain": [
       "'http://172.20.10.6:4040'"
      ]
     },
     "execution_count": 3,
     "metadata": {},
     "output_type": "execute_result"
    }
   ],
   "source": [
    "spark.sparkContext.uiWebUrl"
   ]
  },
  {
   "cell_type": "code",
   "execution_count": 4,
   "id": "656a0ac4-cdc6-4dfd-af4c-873e9d1da798",
   "metadata": {
    "execution": {
     "iopub.execute_input": "2024-12-01T22:52:24.704465Z",
     "iopub.status.busy": "2024-12-01T22:52:24.704241Z",
     "iopub.status.idle": "2024-12-01T22:52:26.087430Z",
     "shell.execute_reply": "2024-12-01T22:52:26.087135Z",
     "shell.execute_reply.started": "2024-12-01T22:52:24.704447Z"
    }
   },
   "outputs": [
    {
     "data": {
      "text/plain": [
       "DataFrame[]"
      ]
     },
     "execution_count": 4,
     "metadata": {},
     "output_type": "execute_result"
    }
   ],
   "source": [
    "sql = \"\"\"\n",
    "CREATE OR REPLACE TABLE local.taxis\n",
    "(\n",
    "  vendor_id bigint,\n",
    "  trip_id bigint,\n",
    "  trip_distance float,\n",
    "  fare_amount double,\n",
    "  store_and_fwd_flag string\n",
    ")\n",
    "PARTITIONED BY (vendor_id);\n",
    "\"\"\"\n",
    "\n",
    "spark.sql(sql)"
   ]
  },
  {
   "cell_type": "code",
   "execution_count": 5,
   "id": "ade02074",
   "metadata": {
    "execution": {
     "iopub.execute_input": "2024-12-01T22:52:27.618073Z",
     "iopub.status.busy": "2024-12-01T22:52:27.617672Z",
     "iopub.status.idle": "2024-12-01T22:52:29.947810Z",
     "shell.execute_reply": "2024-12-01T22:52:29.947367Z",
     "shell.execute_reply.started": "2024-12-01T22:52:27.618052Z"
    }
   },
   "outputs": [
    {
     "name": "stderr",
     "output_type": "stream",
     "text": [
      "                                                                                "
     ]
    },
    {
     "data": {
      "text/plain": [
       "DataFrame[]"
      ]
     },
     "execution_count": 5,
     "metadata": {},
     "output_type": "execute_result"
    }
   ],
   "source": [
    "sql = \"\"\"\n",
    "INSERT INTO local.taxis \n",
    "VALUES (1,2,3,4,\"flag\")\n",
    "\"\"\"\n",
    "\n",
    "spark.sql(sql)"
   ]
  },
  {
   "cell_type": "code",
   "execution_count": 6,
   "id": "5f9060dc-6b9d-40a5-abcb-4c057b9c7b95",
   "metadata": {
    "execution": {
     "iopub.execute_input": "2024-12-01T22:52:34.603531Z",
     "iopub.status.busy": "2024-12-01T22:52:34.602126Z",
     "iopub.status.idle": "2024-12-01T22:52:35.494939Z",
     "shell.execute_reply": "2024-12-01T22:52:35.494659Z",
     "shell.execute_reply.started": "2024-12-01T22:52:34.603453Z"
    }
   },
   "outputs": [
    {
     "name": "stdout",
     "output_type": "stream",
     "text": [
      "+---------+-------+-------------+-----------+------------------+\n",
      "|vendor_id|trip_id|trip_distance|fare_amount|store_and_fwd_flag|\n",
      "+---------+-------+-------------+-----------+------------------+\n",
      "|        1|      2|          3.0|        4.0|              flag|\n",
      "+---------+-------+-------------+-----------+------------------+\n",
      "\n"
     ]
    }
   ],
   "source": [
    "spark.sql(\"SELECT * FROM local.taxis\").show()"
   ]
  },
  {
   "cell_type": "code",
   "execution_count": 14,
   "id": "ad6a9b40",
   "metadata": {},
   "outputs": [],
   "source": [
    "spark.stop()\n"
   ]
  }
 ],
 "metadata": {
  "kernelspec": {
   "display_name": "Python 3 (ipykernel)",
   "language": "python",
   "name": "python3"
  },
  "language_info": {
   "codemirror_mode": {
    "name": "ipython",
    "version": 3
   },
   "file_extension": ".py",
   "mimetype": "text/x-python",
   "name": "python",
   "nbconvert_exporter": "python",
   "pygments_lexer": "ipython3",
   "version": "3.10.14"
  }
 },
 "nbformat": 4,
 "nbformat_minor": 5
}
